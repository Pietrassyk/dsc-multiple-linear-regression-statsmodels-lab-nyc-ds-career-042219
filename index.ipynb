{
 "cells": [
  {
   "cell_type": "markdown",
   "metadata": {},
   "source": [
    "# Multiple Linear Regression in Statsmodels - Lab"
   ]
  },
  {
   "cell_type": "markdown",
   "metadata": {},
   "source": [
    "## Introduction\n",
    "In this lab, you'll practice fitting a multiple linear regression model on our Boston Housing Data set!"
   ]
  },
  {
   "cell_type": "markdown",
   "metadata": {},
   "source": [
    "## Objectives\n",
    "You will be able to:\n",
    "* Run linear regression on Boston Housing dataset with all the predictors\n",
    "* Interpret the parameters of the multiple linear regression model"
   ]
  },
  {
   "cell_type": "markdown",
   "metadata": {},
   "source": [
    "## The Boston Housing Data"
   ]
  },
  {
   "cell_type": "markdown",
   "metadata": {},
   "source": [
    "We pre-processed the Boston Housing Data again. This time, however, we did things slightly different:\n",
    "- We dropped \"ZN\" and \"NOX\" completely\n",
    "- We categorized \"RAD\" in 3 bins and \"TAX\" in 4 bins\n",
    "- We used min-max-scaling on \"B\", \"CRIM\" and \"DIS\" (and logtransformed all of them first, except \"B\")\n",
    "- We used standardization on \"AGE\", \"INDUS\", \"LSTAT\" and \"PTRATIO\" (and logtransformed all of them first, except for \"AGE\") "
   ]
  },
  {
   "cell_type": "code",
   "execution_count": 1,
   "metadata": {},
   "outputs": [],
   "source": [
    "import pandas as pd\n",
    "import numpy as np\n",
    "from sklearn.datasets import load_boston\n",
    "boston = load_boston()\n",
    "\n",
    "boston_features = pd.DataFrame(boston.data, columns = boston.feature_names)\n",
    "boston_features = boston_features.drop([\"NOX\",\"ZN\"],axis=1)\n",
    "boston_features_orig = boston_features.copy()\n",
    "# first, create bins for based on the values observed. 3 values will result in 2 bins\n",
    "bins_rad_list = [0,6,  24]\n",
    "bins_rad = pd.cut(boston_features['RAD'], bins_rad_list)\n",
    "bins_rad = bins_rad.cat.as_unordered()\n",
    "\n",
    "# first, create bins for based on the values observed. 4 values will result in 3 bins\n",
    "bins_tax_list = [0, 270, 360, 712]\n",
    "bins_tax = pd.cut(boston_features['TAX'], bins_tax_list)\n",
    "bins_tax = bins_tax.cat.as_unordered()\n",
    "\n",
    "tax_dummy = pd.get_dummies(bins_tax, prefix=\"TAX\")\n",
    "rad_dummy = pd.get_dummies(bins_rad, prefix=\"RAD\")\n",
    "boston_features = boston_features.drop([\"RAD\",\"TAX\"], axis=1)\n",
    "boston_features = pd.concat([boston_features, rad_dummy, tax_dummy], axis=1)"
   ]
  },
  {
   "cell_type": "code",
   "execution_count": 2,
   "metadata": {},
   "outputs": [
    {
     "data": {
      "text/html": [
       "<div>\n",
       "<style scoped>\n",
       "    .dataframe tbody tr th:only-of-type {\n",
       "        vertical-align: middle;\n",
       "    }\n",
       "\n",
       "    .dataframe tbody tr th {\n",
       "        vertical-align: top;\n",
       "    }\n",
       "\n",
       "    .dataframe thead th {\n",
       "        text-align: right;\n",
       "    }\n",
       "</style>\n",
       "<table border=\"1\" class=\"dataframe\">\n",
       "  <thead>\n",
       "    <tr style=\"text-align: right;\">\n",
       "      <th></th>\n",
       "      <th>CRIM</th>\n",
       "      <th>INDUS</th>\n",
       "      <th>CHAS</th>\n",
       "      <th>RM</th>\n",
       "      <th>AGE</th>\n",
       "      <th>DIS</th>\n",
       "      <th>PTRATIO</th>\n",
       "      <th>B</th>\n",
       "      <th>LSTAT</th>\n",
       "      <th>RAD_(0, 6]</th>\n",
       "      <th>RAD_(6, 24]</th>\n",
       "      <th>TAX_(0, 270]</th>\n",
       "      <th>TAX_(270, 360]</th>\n",
       "      <th>TAX_(360, 712]</th>\n",
       "    </tr>\n",
       "  </thead>\n",
       "  <tbody>\n",
       "    <tr>\n",
       "      <th>count</th>\n",
       "      <td>506.000000</td>\n",
       "      <td>506.000000</td>\n",
       "      <td>506.000000</td>\n",
       "      <td>506.000000</td>\n",
       "      <td>506.000000</td>\n",
       "      <td>506.000000</td>\n",
       "      <td>506.000000</td>\n",
       "      <td>506.000000</td>\n",
       "      <td>506.000000</td>\n",
       "      <td>506.000000</td>\n",
       "      <td>506.000000</td>\n",
       "      <td>506.000000</td>\n",
       "      <td>506.000000</td>\n",
       "      <td>506.000000</td>\n",
       "    </tr>\n",
       "    <tr>\n",
       "      <th>mean</th>\n",
       "      <td>3.613524</td>\n",
       "      <td>11.136779</td>\n",
       "      <td>0.069170</td>\n",
       "      <td>6.284634</td>\n",
       "      <td>68.574901</td>\n",
       "      <td>3.795043</td>\n",
       "      <td>18.455534</td>\n",
       "      <td>356.674032</td>\n",
       "      <td>12.653063</td>\n",
       "      <td>0.658103</td>\n",
       "      <td>0.341897</td>\n",
       "      <td>0.195652</td>\n",
       "      <td>0.343874</td>\n",
       "      <td>0.460474</td>\n",
       "    </tr>\n",
       "    <tr>\n",
       "      <th>std</th>\n",
       "      <td>8.601545</td>\n",
       "      <td>6.860353</td>\n",
       "      <td>0.253994</td>\n",
       "      <td>0.702617</td>\n",
       "      <td>28.148861</td>\n",
       "      <td>2.105710</td>\n",
       "      <td>2.164946</td>\n",
       "      <td>91.294864</td>\n",
       "      <td>7.141062</td>\n",
       "      <td>0.474815</td>\n",
       "      <td>0.474815</td>\n",
       "      <td>0.397094</td>\n",
       "      <td>0.475470</td>\n",
       "      <td>0.498929</td>\n",
       "    </tr>\n",
       "    <tr>\n",
       "      <th>min</th>\n",
       "      <td>0.006320</td>\n",
       "      <td>0.460000</td>\n",
       "      <td>0.000000</td>\n",
       "      <td>3.561000</td>\n",
       "      <td>2.900000</td>\n",
       "      <td>1.129600</td>\n",
       "      <td>12.600000</td>\n",
       "      <td>0.320000</td>\n",
       "      <td>1.730000</td>\n",
       "      <td>0.000000</td>\n",
       "      <td>0.000000</td>\n",
       "      <td>0.000000</td>\n",
       "      <td>0.000000</td>\n",
       "      <td>0.000000</td>\n",
       "    </tr>\n",
       "    <tr>\n",
       "      <th>25%</th>\n",
       "      <td>0.082045</td>\n",
       "      <td>5.190000</td>\n",
       "      <td>0.000000</td>\n",
       "      <td>5.885500</td>\n",
       "      <td>45.025000</td>\n",
       "      <td>2.100175</td>\n",
       "      <td>17.400000</td>\n",
       "      <td>375.377500</td>\n",
       "      <td>6.950000</td>\n",
       "      <td>0.000000</td>\n",
       "      <td>0.000000</td>\n",
       "      <td>0.000000</td>\n",
       "      <td>0.000000</td>\n",
       "      <td>0.000000</td>\n",
       "    </tr>\n",
       "    <tr>\n",
       "      <th>50%</th>\n",
       "      <td>0.256510</td>\n",
       "      <td>9.690000</td>\n",
       "      <td>0.000000</td>\n",
       "      <td>6.208500</td>\n",
       "      <td>77.500000</td>\n",
       "      <td>3.207450</td>\n",
       "      <td>19.050000</td>\n",
       "      <td>391.440000</td>\n",
       "      <td>11.360000</td>\n",
       "      <td>1.000000</td>\n",
       "      <td>0.000000</td>\n",
       "      <td>0.000000</td>\n",
       "      <td>0.000000</td>\n",
       "      <td>0.000000</td>\n",
       "    </tr>\n",
       "    <tr>\n",
       "      <th>75%</th>\n",
       "      <td>3.677083</td>\n",
       "      <td>18.100000</td>\n",
       "      <td>0.000000</td>\n",
       "      <td>6.623500</td>\n",
       "      <td>94.075000</td>\n",
       "      <td>5.188425</td>\n",
       "      <td>20.200000</td>\n",
       "      <td>396.225000</td>\n",
       "      <td>16.955000</td>\n",
       "      <td>1.000000</td>\n",
       "      <td>1.000000</td>\n",
       "      <td>0.000000</td>\n",
       "      <td>1.000000</td>\n",
       "      <td>1.000000</td>\n",
       "    </tr>\n",
       "    <tr>\n",
       "      <th>max</th>\n",
       "      <td>88.976200</td>\n",
       "      <td>27.740000</td>\n",
       "      <td>1.000000</td>\n",
       "      <td>8.780000</td>\n",
       "      <td>100.000000</td>\n",
       "      <td>12.126500</td>\n",
       "      <td>22.000000</td>\n",
       "      <td>396.900000</td>\n",
       "      <td>37.970000</td>\n",
       "      <td>1.000000</td>\n",
       "      <td>1.000000</td>\n",
       "      <td>1.000000</td>\n",
       "      <td>1.000000</td>\n",
       "      <td>1.000000</td>\n",
       "    </tr>\n",
       "  </tbody>\n",
       "</table>\n",
       "</div>"
      ],
      "text/plain": [
       "             CRIM       INDUS        CHAS          RM         AGE         DIS  \\\n",
       "count  506.000000  506.000000  506.000000  506.000000  506.000000  506.000000   \n",
       "mean     3.613524   11.136779    0.069170    6.284634   68.574901    3.795043   \n",
       "std      8.601545    6.860353    0.253994    0.702617   28.148861    2.105710   \n",
       "min      0.006320    0.460000    0.000000    3.561000    2.900000    1.129600   \n",
       "25%      0.082045    5.190000    0.000000    5.885500   45.025000    2.100175   \n",
       "50%      0.256510    9.690000    0.000000    6.208500   77.500000    3.207450   \n",
       "75%      3.677083   18.100000    0.000000    6.623500   94.075000    5.188425   \n",
       "max     88.976200   27.740000    1.000000    8.780000  100.000000   12.126500   \n",
       "\n",
       "          PTRATIO           B       LSTAT  RAD_(0, 6]  RAD_(6, 24]  \\\n",
       "count  506.000000  506.000000  506.000000  506.000000   506.000000   \n",
       "mean    18.455534  356.674032   12.653063    0.658103     0.341897   \n",
       "std      2.164946   91.294864    7.141062    0.474815     0.474815   \n",
       "min     12.600000    0.320000    1.730000    0.000000     0.000000   \n",
       "25%     17.400000  375.377500    6.950000    0.000000     0.000000   \n",
       "50%     19.050000  391.440000   11.360000    1.000000     0.000000   \n",
       "75%     20.200000  396.225000   16.955000    1.000000     1.000000   \n",
       "max     22.000000  396.900000   37.970000    1.000000     1.000000   \n",
       "\n",
       "       TAX_(0, 270]  TAX_(270, 360]  TAX_(360, 712]  \n",
       "count    506.000000      506.000000      506.000000  \n",
       "mean       0.195652        0.343874        0.460474  \n",
       "std        0.397094        0.475470        0.498929  \n",
       "min        0.000000        0.000000        0.000000  \n",
       "25%        0.000000        0.000000        0.000000  \n",
       "50%        0.000000        0.000000        0.000000  \n",
       "75%        0.000000        1.000000        1.000000  \n",
       "max        1.000000        1.000000        1.000000  "
      ]
     },
     "execution_count": 2,
     "metadata": {},
     "output_type": "execute_result"
    }
   ],
   "source": [
    "boston_features.describe()"
   ]
  },
  {
   "cell_type": "code",
   "execution_count": 3,
   "metadata": {},
   "outputs": [],
   "source": [
    "age = boston_features[\"AGE\"]\n",
    "b = boston_features[\"B\"]\n",
    "logcrim = np.log(boston_features[\"CRIM\"])\n",
    "logdis = np.log(boston_features[\"DIS\"])\n",
    "logindus = np.log(boston_features[\"INDUS\"])\n",
    "loglstat = np.log(boston_features[\"LSTAT\"])\n",
    "logptratio = np.log(boston_features[\"PTRATIO\"])\n",
    "\n",
    "#storing original vaulues for sample transformation\n",
    "\n",
    "min_b , max_b = min(b), max(b)\n",
    "min_crim , max_crim = max(logcrim) , min(logcrim)\n",
    "min_dis, max_dis = min(logdis) , max(logdis)\n",
    "mean_age , var_age = np.mean(age), np.var(age)\n",
    "mean_indus , var_indus = np.mean(logindus), np.var(logindus)\n",
    "mean_lstat , var_lstat = np.mean(loglstat) , np.var(loglstat)\n",
    "mean_ptratio , var_ptratio = np.mean(logptratio), np.var(logptratio)\n",
    "\n",
    "# minmax scaling\n",
    "\n",
    "boston_features[\"B\"] = (b-min(b))/(max(b)-min(b))\n",
    "boston_features[\"CRIM\"] = (logcrim-min(logcrim))/(max(logcrim)-min(logcrim))\n",
    "boston_features[\"DIS\"] = (logdis-min(logdis))/(max(logdis)-min(logdis))\n",
    "\n",
    "\n",
    "#standardization\n",
    "boston_features[\"AGE\"] = (age-np.mean(age))/np.sqrt(np.var(age))\n",
    "boston_features[\"INDUS\"] = (logindus-np.mean(logindus))/np.sqrt(np.var(logindus))\n",
    "boston_features[\"LSTAT\"] = (loglstat-np.mean(loglstat))/np.sqrt(np.var(loglstat))\n",
    "boston_features[\"PTRATIO\"] = (logptratio-np.mean(logptratio))/(np.sqrt(np.var(logptratio)))"
   ]
  },
  {
   "cell_type": "code",
   "execution_count": 4,
   "metadata": {},
   "outputs": [
    {
     "data": {
      "text/plain": [
       "count    506.000000\n",
       "mean       0.898568\n",
       "std        0.230205\n",
       "min        0.000000\n",
       "25%        0.945730\n",
       "50%        0.986232\n",
       "75%        0.998298\n",
       "max        1.000000\n",
       "Name: B, dtype: float64"
      ]
     },
     "execution_count": 4,
     "metadata": {},
     "output_type": "execute_result"
    }
   ],
   "source": [
    "boston_features.B.describe()"
   ]
  },
  {
   "cell_type": "markdown",
   "metadata": {},
   "source": [
    "## Run an linear model in Statsmodels"
   ]
  },
  {
   "cell_type": "code",
   "execution_count": 5,
   "metadata": {},
   "outputs": [],
   "source": [
    "import statsmodels.api as sm\n",
    "target = boston_features.CRIM\n",
    "predictors = boston_features.drop(\"CRIM\", axis=1)"
   ]
  },
  {
   "cell_type": "code",
   "execution_count": 6,
   "metadata": {},
   "outputs": [
    {
     "name": "stderr",
     "output_type": "stream",
     "text": [
      "/Users/pietrassyk/anaconda3/lib/python3.7/site-packages/numpy/core/fromnumeric.py:2389: FutureWarning: Method .ptp is deprecated and will be removed in a future version. Use numpy.ptp instead.\n",
      "  return ptp(axis=axis, out=out, **kwargs)\n"
     ]
    }
   ],
   "source": [
    "model_sm = sm.OLS(target,sm.add_constant(predictors)).fit()"
   ]
  },
  {
   "cell_type": "code",
   "execution_count": 7,
   "metadata": {},
   "outputs": [
    {
     "data": {
      "text/html": [
       "<table class=\"simpletable\">\n",
       "<caption>OLS Regression Results</caption>\n",
       "<tr>\n",
       "  <th>Dep. Variable:</th>          <td>CRIM</td>       <th>  R-squared:         </th> <td>   0.835</td> \n",
       "</tr>\n",
       "<tr>\n",
       "  <th>Model:</th>                   <td>OLS</td>       <th>  Adj. R-squared:    </th> <td>   0.831</td> \n",
       "</tr>\n",
       "<tr>\n",
       "  <th>Method:</th>             <td>Least Squares</td>  <th>  F-statistic:       </th> <td>   226.7</td> \n",
       "</tr>\n",
       "<tr>\n",
       "  <th>Date:</th>             <td>Sat, 04 May 2019</td> <th>  Prob (F-statistic):</th> <td>4.75e-185</td>\n",
       "</tr>\n",
       "<tr>\n",
       "  <th>Time:</th>                 <td>18:52:23</td>     <th>  Log-Likelihood:    </th> <td>  489.59</td> \n",
       "</tr>\n",
       "<tr>\n",
       "  <th>No. Observations:</th>      <td>   506</td>      <th>  AIC:               </th> <td>  -955.2</td> \n",
       "</tr>\n",
       "<tr>\n",
       "  <th>Df Residuals:</th>          <td>   494</td>      <th>  BIC:               </th> <td>  -904.5</td> \n",
       "</tr>\n",
       "<tr>\n",
       "  <th>Df Model:</th>              <td>    11</td>      <th>                     </th>     <td> </td>    \n",
       "</tr>\n",
       "<tr>\n",
       "  <th>Covariance Type:</th>      <td>nonrobust</td>    <th>                     </th>     <td> </td>    \n",
       "</tr>\n",
       "</table>\n",
       "<table class=\"simpletable\">\n",
       "<tr>\n",
       "         <td></td>           <th>coef</th>     <th>std err</th>      <th>t</th>      <th>P>|t|</th>  <th>[0.025</th>    <th>0.975]</th>  \n",
       "</tr>\n",
       "<tr>\n",
       "  <th>const</th>          <td>    0.4030</td> <td>    0.033</td> <td>   12.044</td> <td> 0.000</td> <td>    0.337</td> <td>    0.469</td>\n",
       "</tr>\n",
       "<tr>\n",
       "  <th>INDUS</th>          <td>    0.0456</td> <td>    0.007</td> <td>    6.137</td> <td> 0.000</td> <td>    0.031</td> <td>    0.060</td>\n",
       "</tr>\n",
       "<tr>\n",
       "  <th>CHAS</th>           <td>   -0.0148</td> <td>    0.017</td> <td>   -0.873</td> <td> 0.383</td> <td>   -0.048</td> <td>    0.018</td>\n",
       "</tr>\n",
       "<tr>\n",
       "  <th>RM</th>             <td>   -0.0097</td> <td>    0.009</td> <td>   -1.120</td> <td> 0.263</td> <td>   -0.027</td> <td>    0.007</td>\n",
       "</tr>\n",
       "<tr>\n",
       "  <th>AGE</th>            <td>    0.0200</td> <td>    0.007</td> <td>    2.699</td> <td> 0.007</td> <td>    0.005</td> <td>    0.035</td>\n",
       "</tr>\n",
       "<tr>\n",
       "  <th>DIS</th>            <td>   -0.2467</td> <td>    0.038</td> <td>   -6.510</td> <td> 0.000</td> <td>   -0.321</td> <td>   -0.172</td>\n",
       "</tr>\n",
       "<tr>\n",
       "  <th>PTRATIO</th>        <td>   -0.0133</td> <td>    0.005</td> <td>   -2.610</td> <td> 0.009</td> <td>   -0.023</td> <td>   -0.003</td>\n",
       "</tr>\n",
       "<tr>\n",
       "  <th>B</th>              <td>   -0.1036</td> <td>    0.020</td> <td>   -5.069</td> <td> 0.000</td> <td>   -0.144</td> <td>   -0.063</td>\n",
       "</tr>\n",
       "<tr>\n",
       "  <th>LSTAT</th>          <td>    0.0167</td> <td>    0.007</td> <td>    2.235</td> <td> 0.026</td> <td>    0.002</td> <td>    0.031</td>\n",
       "</tr>\n",
       "<tr>\n",
       "  <th>RAD_(0, 6]</th>     <td>    0.1005</td> <td>    0.017</td> <td>    5.957</td> <td> 0.000</td> <td>    0.067</td> <td>    0.134</td>\n",
       "</tr>\n",
       "<tr>\n",
       "  <th>RAD_(6, 24]</th>    <td>    0.3025</td> <td>    0.018</td> <td>   16.499</td> <td> 0.000</td> <td>    0.266</td> <td>    0.338</td>\n",
       "</tr>\n",
       "<tr>\n",
       "  <th>TAX_(0, 270]</th>   <td>    0.1050</td> <td>    0.014</td> <td>    7.258</td> <td> 0.000</td> <td>    0.077</td> <td>    0.133</td>\n",
       "</tr>\n",
       "<tr>\n",
       "  <th>TAX_(270, 360]</th> <td>    0.1367</td> <td>    0.014</td> <td>   10.015</td> <td> 0.000</td> <td>    0.110</td> <td>    0.163</td>\n",
       "</tr>\n",
       "<tr>\n",
       "  <th>TAX_(360, 712]</th> <td>    0.1613</td> <td>    0.013</td> <td>   12.787</td> <td> 0.000</td> <td>    0.137</td> <td>    0.186</td>\n",
       "</tr>\n",
       "</table>\n",
       "<table class=\"simpletable\">\n",
       "<tr>\n",
       "  <th>Omnibus:</th>       <td> 1.816</td> <th>  Durbin-Watson:     </th> <td>   0.566</td>\n",
       "</tr>\n",
       "<tr>\n",
       "  <th>Prob(Omnibus):</th> <td> 0.403</td> <th>  Jarque-Bera (JB):  </th> <td>   1.652</td>\n",
       "</tr>\n",
       "<tr>\n",
       "  <th>Skew:</th>          <td>-0.134</td> <th>  Prob(JB):          </th> <td>   0.438</td>\n",
       "</tr>\n",
       "<tr>\n",
       "  <th>Kurtosis:</th>      <td> 3.079</td> <th>  Cond. No.          </th> <td>5.95e+16</td>\n",
       "</tr>\n",
       "</table><br/><br/>Warnings:<br/>[1] Standard Errors assume that the covariance matrix of the errors is correctly specified.<br/>[2] The smallest eigenvalue is 6.14e-30. This might indicate that there are<br/>strong multicollinearity problems or that the design matrix is singular."
      ],
      "text/plain": [
       "<class 'statsmodels.iolib.summary.Summary'>\n",
       "\"\"\"\n",
       "                            OLS Regression Results                            \n",
       "==============================================================================\n",
       "Dep. Variable:                   CRIM   R-squared:                       0.835\n",
       "Model:                            OLS   Adj. R-squared:                  0.831\n",
       "Method:                 Least Squares   F-statistic:                     226.7\n",
       "Date:                Sat, 04 May 2019   Prob (F-statistic):          4.75e-185\n",
       "Time:                        18:52:23   Log-Likelihood:                 489.59\n",
       "No. Observations:                 506   AIC:                            -955.2\n",
       "Df Residuals:                     494   BIC:                            -904.5\n",
       "Df Model:                          11                                         \n",
       "Covariance Type:            nonrobust                                         \n",
       "==================================================================================\n",
       "                     coef    std err          t      P>|t|      [0.025      0.975]\n",
       "----------------------------------------------------------------------------------\n",
       "const              0.4030      0.033     12.044      0.000       0.337       0.469\n",
       "INDUS              0.0456      0.007      6.137      0.000       0.031       0.060\n",
       "CHAS              -0.0148      0.017     -0.873      0.383      -0.048       0.018\n",
       "RM                -0.0097      0.009     -1.120      0.263      -0.027       0.007\n",
       "AGE                0.0200      0.007      2.699      0.007       0.005       0.035\n",
       "DIS               -0.2467      0.038     -6.510      0.000      -0.321      -0.172\n",
       "PTRATIO           -0.0133      0.005     -2.610      0.009      -0.023      -0.003\n",
       "B                 -0.1036      0.020     -5.069      0.000      -0.144      -0.063\n",
       "LSTAT              0.0167      0.007      2.235      0.026       0.002       0.031\n",
       "RAD_(0, 6]         0.1005      0.017      5.957      0.000       0.067       0.134\n",
       "RAD_(6, 24]        0.3025      0.018     16.499      0.000       0.266       0.338\n",
       "TAX_(0, 270]       0.1050      0.014      7.258      0.000       0.077       0.133\n",
       "TAX_(270, 360]     0.1367      0.014     10.015      0.000       0.110       0.163\n",
       "TAX_(360, 712]     0.1613      0.013     12.787      0.000       0.137       0.186\n",
       "==============================================================================\n",
       "Omnibus:                        1.816   Durbin-Watson:                   0.566\n",
       "Prob(Omnibus):                  0.403   Jarque-Bera (JB):                1.652\n",
       "Skew:                          -0.134   Prob(JB):                        0.438\n",
       "Kurtosis:                       3.079   Cond. No.                     5.95e+16\n",
       "==============================================================================\n",
       "\n",
       "Warnings:\n",
       "[1] Standard Errors assume that the covariance matrix of the errors is correctly specified.\n",
       "[2] The smallest eigenvalue is 6.14e-30. This might indicate that there are\n",
       "strong multicollinearity problems or that the design matrix is singular.\n",
       "\"\"\""
      ]
     },
     "execution_count": 7,
     "metadata": {},
     "output_type": "execute_result"
    }
   ],
   "source": [
    "model_sm.summary()"
   ]
  },
  {
   "cell_type": "markdown",
   "metadata": {},
   "source": [
    "## Run the same model in Scikit-learn"
   ]
  },
  {
   "cell_type": "code",
   "execution_count": 8,
   "metadata": {},
   "outputs": [],
   "source": [
    "from sklearn.linear_model import LinearRegression"
   ]
  },
  {
   "cell_type": "code",
   "execution_count": 9,
   "metadata": {},
   "outputs": [
    {
     "data": {
      "text/plain": [
       "LinearRegression(copy_X=True, fit_intercept=True, n_jobs=None,\n",
       "         normalize=False)"
      ]
     },
     "execution_count": 9,
     "metadata": {},
     "output_type": "execute_result"
    }
   ],
   "source": [
    "model_sk = LinearRegression()\n",
    "model_sk.fit(predictors,target)"
   ]
  },
  {
   "cell_type": "code",
   "execution_count": 10,
   "metadata": {},
   "outputs": [
    {
     "data": {
      "text/plain": [
       "array([ 0.04560625, -0.01477087, -0.0097057 ,  0.02003895, -0.24667338,\n",
       "       -0.01330695, -0.10361591,  0.01673055, -0.10096829,  0.10096829,\n",
       "       -0.02931793,  0.00233139,  0.02698654])"
      ]
     },
     "execution_count": 10,
     "metadata": {},
     "output_type": "execute_result"
    }
   ],
   "source": [
    "model_sk.coef_"
   ]
  },
  {
   "cell_type": "code",
   "execution_count": 11,
   "metadata": {},
   "outputs": [
    {
     "data": {
      "text/plain": [
       "0.738794001967332"
      ]
     },
     "execution_count": 11,
     "metadata": {},
     "output_type": "execute_result"
    }
   ],
   "source": [
    "model_sk.intercept_"
   ]
  },
  {
   "cell_type": "markdown",
   "metadata": {},
   "source": [
    "## Remove the necessary variables to make sure the coefficients are the same for Scikit-learn vs Statsmodels"
   ]
  },
  {
   "cell_type": "code",
   "execution_count": 12,
   "metadata": {},
   "outputs": [],
   "source": [
    "predictors = predictors.drop(\"RAD_(6, 24]\",axis=1)\n",
    "predictors = predictors.drop(\"TAX_(360, 712]\",axis=1)"
   ]
  },
  {
   "cell_type": "markdown",
   "metadata": {},
   "source": [
    "### Statsmodels"
   ]
  },
  {
   "cell_type": "code",
   "execution_count": 13,
   "metadata": {},
   "outputs": [
    {
     "name": "stderr",
     "output_type": "stream",
     "text": [
      "/Users/pietrassyk/anaconda3/lib/python3.7/site-packages/numpy/core/fromnumeric.py:2389: FutureWarning: Method .ptp is deprecated and will be removed in a future version. Use numpy.ptp instead.\n",
      "  return ptp(axis=axis, out=out, **kwargs)\n"
     ]
    },
    {
     "data": {
      "text/html": [
       "<table class=\"simpletable\">\n",
       "<caption>OLS Regression Results</caption>\n",
       "<tr>\n",
       "  <th>Dep. Variable:</th>          <td>CRIM</td>       <th>  R-squared:         </th> <td>   0.835</td> \n",
       "</tr>\n",
       "<tr>\n",
       "  <th>Model:</th>                   <td>OLS</td>       <th>  Adj. R-squared:    </th> <td>   0.831</td> \n",
       "</tr>\n",
       "<tr>\n",
       "  <th>Method:</th>             <td>Least Squares</td>  <th>  F-statistic:       </th> <td>   226.7</td> \n",
       "</tr>\n",
       "<tr>\n",
       "  <th>Date:</th>             <td>Sat, 04 May 2019</td> <th>  Prob (F-statistic):</th> <td>4.75e-185</td>\n",
       "</tr>\n",
       "<tr>\n",
       "  <th>Time:</th>                 <td>18:52:23</td>     <th>  Log-Likelihood:    </th> <td>  489.59</td> \n",
       "</tr>\n",
       "<tr>\n",
       "  <th>No. Observations:</th>      <td>   506</td>      <th>  AIC:               </th> <td>  -955.2</td> \n",
       "</tr>\n",
       "<tr>\n",
       "  <th>Df Residuals:</th>          <td>   494</td>      <th>  BIC:               </th> <td>  -904.5</td> \n",
       "</tr>\n",
       "<tr>\n",
       "  <th>Df Model:</th>              <td>    11</td>      <th>                     </th>     <td> </td>    \n",
       "</tr>\n",
       "<tr>\n",
       "  <th>Covariance Type:</th>      <td>nonrobust</td>    <th>                     </th>     <td> </td>    \n",
       "</tr>\n",
       "</table>\n",
       "<table class=\"simpletable\">\n",
       "<tr>\n",
       "         <td></td>           <th>coef</th>     <th>std err</th>      <th>t</th>      <th>P>|t|</th>  <th>[0.025</th>    <th>0.975]</th>  \n",
       "</tr>\n",
       "<tr>\n",
       "  <th>const</th>          <td>    0.8667</td> <td>    0.061</td> <td>   14.138</td> <td> 0.000</td> <td>    0.746</td> <td>    0.987</td>\n",
       "</tr>\n",
       "<tr>\n",
       "  <th>INDUS</th>          <td>    0.0456</td> <td>    0.007</td> <td>    6.137</td> <td> 0.000</td> <td>    0.031</td> <td>    0.060</td>\n",
       "</tr>\n",
       "<tr>\n",
       "  <th>CHAS</th>           <td>   -0.0148</td> <td>    0.017</td> <td>   -0.873</td> <td> 0.383</td> <td>   -0.048</td> <td>    0.018</td>\n",
       "</tr>\n",
       "<tr>\n",
       "  <th>RM</th>             <td>   -0.0097</td> <td>    0.009</td> <td>   -1.120</td> <td> 0.263</td> <td>   -0.027</td> <td>    0.007</td>\n",
       "</tr>\n",
       "<tr>\n",
       "  <th>AGE</th>            <td>    0.0200</td> <td>    0.007</td> <td>    2.699</td> <td> 0.007</td> <td>    0.005</td> <td>    0.035</td>\n",
       "</tr>\n",
       "<tr>\n",
       "  <th>DIS</th>            <td>   -0.2467</td> <td>    0.038</td> <td>   -6.510</td> <td> 0.000</td> <td>   -0.321</td> <td>   -0.172</td>\n",
       "</tr>\n",
       "<tr>\n",
       "  <th>PTRATIO</th>        <td>   -0.0133</td> <td>    0.005</td> <td>   -2.610</td> <td> 0.009</td> <td>   -0.023</td> <td>   -0.003</td>\n",
       "</tr>\n",
       "<tr>\n",
       "  <th>B</th>              <td>   -0.1036</td> <td>    0.020</td> <td>   -5.069</td> <td> 0.000</td> <td>   -0.144</td> <td>   -0.063</td>\n",
       "</tr>\n",
       "<tr>\n",
       "  <th>LSTAT</th>          <td>    0.0167</td> <td>    0.007</td> <td>    2.235</td> <td> 0.026</td> <td>    0.002</td> <td>    0.031</td>\n",
       "</tr>\n",
       "<tr>\n",
       "  <th>RAD_(0, 6]</th>     <td>   -0.2019</td> <td>    0.011</td> <td>  -18.278</td> <td> 0.000</td> <td>   -0.224</td> <td>   -0.180</td>\n",
       "</tr>\n",
       "<tr>\n",
       "  <th>TAX_(0, 270]</th>   <td>   -0.0563</td> <td>    0.015</td> <td>   -3.813</td> <td> 0.000</td> <td>   -0.085</td> <td>   -0.027</td>\n",
       "</tr>\n",
       "<tr>\n",
       "  <th>TAX_(270, 360]</th> <td>   -0.0247</td> <td>    0.013</td> <td>   -1.915</td> <td> 0.056</td> <td>   -0.050</td> <td>    0.001</td>\n",
       "</tr>\n",
       "</table>\n",
       "<table class=\"simpletable\">\n",
       "<tr>\n",
       "  <th>Omnibus:</th>       <td> 1.816</td> <th>  Durbin-Watson:     </th> <td>   0.566</td>\n",
       "</tr>\n",
       "<tr>\n",
       "  <th>Prob(Omnibus):</th> <td> 0.403</td> <th>  Jarque-Bera (JB):  </th> <td>   1.652</td>\n",
       "</tr>\n",
       "<tr>\n",
       "  <th>Skew:</th>          <td>-0.134</td> <th>  Prob(JB):          </th> <td>   0.438</td>\n",
       "</tr>\n",
       "<tr>\n",
       "  <th>Kurtosis:</th>      <td> 3.079</td> <th>  Cond. No.          </th> <td>    99.5</td>\n",
       "</tr>\n",
       "</table><br/><br/>Warnings:<br/>[1] Standard Errors assume that the covariance matrix of the errors is correctly specified."
      ],
      "text/plain": [
       "<class 'statsmodels.iolib.summary.Summary'>\n",
       "\"\"\"\n",
       "                            OLS Regression Results                            \n",
       "==============================================================================\n",
       "Dep. Variable:                   CRIM   R-squared:                       0.835\n",
       "Model:                            OLS   Adj. R-squared:                  0.831\n",
       "Method:                 Least Squares   F-statistic:                     226.7\n",
       "Date:                Sat, 04 May 2019   Prob (F-statistic):          4.75e-185\n",
       "Time:                        18:52:23   Log-Likelihood:                 489.59\n",
       "No. Observations:                 506   AIC:                            -955.2\n",
       "Df Residuals:                     494   BIC:                            -904.5\n",
       "Df Model:                          11                                         \n",
       "Covariance Type:            nonrobust                                         \n",
       "==================================================================================\n",
       "                     coef    std err          t      P>|t|      [0.025      0.975]\n",
       "----------------------------------------------------------------------------------\n",
       "const              0.8667      0.061     14.138      0.000       0.746       0.987\n",
       "INDUS              0.0456      0.007      6.137      0.000       0.031       0.060\n",
       "CHAS              -0.0148      0.017     -0.873      0.383      -0.048       0.018\n",
       "RM                -0.0097      0.009     -1.120      0.263      -0.027       0.007\n",
       "AGE                0.0200      0.007      2.699      0.007       0.005       0.035\n",
       "DIS               -0.2467      0.038     -6.510      0.000      -0.321      -0.172\n",
       "PTRATIO           -0.0133      0.005     -2.610      0.009      -0.023      -0.003\n",
       "B                 -0.1036      0.020     -5.069      0.000      -0.144      -0.063\n",
       "LSTAT              0.0167      0.007      2.235      0.026       0.002       0.031\n",
       "RAD_(0, 6]        -0.2019      0.011    -18.278      0.000      -0.224      -0.180\n",
       "TAX_(0, 270]      -0.0563      0.015     -3.813      0.000      -0.085      -0.027\n",
       "TAX_(270, 360]    -0.0247      0.013     -1.915      0.056      -0.050       0.001\n",
       "==============================================================================\n",
       "Omnibus:                        1.816   Durbin-Watson:                   0.566\n",
       "Prob(Omnibus):                  0.403   Jarque-Bera (JB):                1.652\n",
       "Skew:                          -0.134   Prob(JB):                        0.438\n",
       "Kurtosis:                       3.079   Cond. No.                         99.5\n",
       "==============================================================================\n",
       "\n",
       "Warnings:\n",
       "[1] Standard Errors assume that the covariance matrix of the errors is correctly specified.\n",
       "\"\"\""
      ]
     },
     "execution_count": 13,
     "metadata": {},
     "output_type": "execute_result"
    }
   ],
   "source": [
    "model_sm = sm.OLS(target,sm.add_constant(predictors)).fit()\n",
    "model_sm.summary()"
   ]
  },
  {
   "cell_type": "markdown",
   "metadata": {},
   "source": [
    "### Scikit-learn"
   ]
  },
  {
   "cell_type": "code",
   "execution_count": 14,
   "metadata": {},
   "outputs": [
    {
     "data": {
      "text/plain": [
       "LinearRegression(copy_X=True, fit_intercept=True, n_jobs=None,\n",
       "         normalize=False)"
      ]
     },
     "execution_count": 14,
     "metadata": {},
     "output_type": "execute_result"
    }
   ],
   "source": [
    "model_sk.fit(predictors,target)"
   ]
  },
  {
   "cell_type": "code",
   "execution_count": 15,
   "metadata": {},
   "outputs": [
    {
     "data": {
      "text/plain": [
       "array([ 0.04560625, -0.01477087, -0.0097057 ,  0.02003895, -0.24667338,\n",
       "       -0.01330695, -0.10361591,  0.01673055, -0.20193657, -0.05630447,\n",
       "       -0.02465516])"
      ]
     },
     "execution_count": 15,
     "metadata": {},
     "output_type": "execute_result"
    }
   ],
   "source": [
    "model_sk.coef_"
   ]
  },
  {
   "cell_type": "code",
   "execution_count": 16,
   "metadata": {},
   "outputs": [
    {
     "data": {
      "text/plain": [
       "0.8667488325892272"
      ]
     },
     "execution_count": 16,
     "metadata": {},
     "output_type": "execute_result"
    }
   ],
   "source": [
    "model_sk.intercept_"
   ]
  },
  {
   "cell_type": "markdown",
   "metadata": {},
   "source": [
    "## Interpret the coefficients for PTRATIO, PTRATIO, LSTAT"
   ]
  },
  {
   "cell_type": "markdown",
   "metadata": {},
   "source": [
    "- CRIM: per capita crime rate by town -> TARGET\n",
    "- INDUS: proportion of non-retail business acres per town --> Crime Rate Rises with higher industrial Zoning\n",
    "- CHAS: Charles River dummy variable (= 1 if tract bounds river; 0 otherwise)\n",
    "- RM: average number of rooms per dwelling\n",
    "- AGE: proportion of owner-occupied units built prior to 1940\n",
    "- DIS: weighted distances to five Boston employment centres\n",
    "- RAD: index of accessibility to radial highways\n",
    "- TAX: full-value property-tax rate per $10,000\n",
    "- PTRATIO: pupil-teacher ratio by town\n",
    "- B: 1000(Bk - 0.63)^2 where Bk is the proportion of blacks by town\n",
    "- LSTAT: % lower status of the population"
   ]
  },
  {
   "cell_type": "markdown",
   "metadata": {},
   "source": [
    "## Predict the house price given the following characteristics (before manipulation!!)\n",
    "\n",
    "Make sure to transform your variables as needed!\n",
    "\n",
    "- CRIM: 0.15\n",
    "- INDUS: 6.07\n",
    "- CHAS: 1        \n",
    "- RM:  6.1\n",
    "- AGE: 33.2\n",
    "- DIS: 7.6\n",
    "- PTRATIO: 17\n",
    "- B: 383\n",
    "- LSTAT: 10.87\n",
    "- RAD: 8\n",
    "- TAX: 284"
   ]
  },
  {
   "cell_type": "code",
   "execution_count": 17,
   "metadata": {},
   "outputs": [],
   "source": [
    "sample_np = np.asarray([0.15,6.07,1,6.1,33.2,7.6,8,284,17,383,10.87])\n",
    "sample_df = pd.DataFrame(sample_np, index = boston_features_orig.columns).transpose()"
   ]
  },
  {
   "cell_type": "code",
   "execution_count": 18,
   "metadata": {
    "scrolled": false
   },
   "outputs": [
    {
     "data": {
      "text/html": [
       "<div>\n",
       "<style scoped>\n",
       "    .dataframe tbody tr th:only-of-type {\n",
       "        vertical-align: middle;\n",
       "    }\n",
       "\n",
       "    .dataframe tbody tr th {\n",
       "        vertical-align: top;\n",
       "    }\n",
       "\n",
       "    .dataframe thead th {\n",
       "        text-align: right;\n",
       "    }\n",
       "</style>\n",
       "<table border=\"1\" class=\"dataframe\">\n",
       "  <thead>\n",
       "    <tr style=\"text-align: right;\">\n",
       "      <th></th>\n",
       "      <th>CRIM</th>\n",
       "      <th>INDUS</th>\n",
       "      <th>CHAS</th>\n",
       "      <th>RM</th>\n",
       "      <th>AGE</th>\n",
       "      <th>DIS</th>\n",
       "      <th>RAD</th>\n",
       "      <th>TAX</th>\n",
       "      <th>PTRATIO</th>\n",
       "      <th>B</th>\n",
       "      <th>LSTAT</th>\n",
       "    </tr>\n",
       "  </thead>\n",
       "  <tbody>\n",
       "    <tr>\n",
       "      <th>0</th>\n",
       "      <td>0.15</td>\n",
       "      <td>6.07</td>\n",
       "      <td>1.0</td>\n",
       "      <td>6.1</td>\n",
       "      <td>33.2</td>\n",
       "      <td>7.6</td>\n",
       "      <td>8.0</td>\n",
       "      <td>284.0</td>\n",
       "      <td>17.0</td>\n",
       "      <td>383.0</td>\n",
       "      <td>10.87</td>\n",
       "    </tr>\n",
       "  </tbody>\n",
       "</table>\n",
       "</div>"
      ],
      "text/plain": [
       "   CRIM  INDUS  CHAS   RM   AGE  DIS  RAD    TAX  PTRATIO      B  LSTAT\n",
       "0  0.15   6.07   1.0  6.1  33.2  7.6  8.0  284.0     17.0  383.0  10.87"
      ]
     },
     "execution_count": 18,
     "metadata": {},
     "output_type": "execute_result"
    }
   ],
   "source": [
    "sample_df"
   ]
  },
  {
   "cell_type": "code",
   "execution_count": 19,
   "metadata": {},
   "outputs": [],
   "source": [
    "def sample_transformation (df,bins_rad_list,bins_tax_list):\n",
    "    \n",
    "    df=df.copy()\n",
    "    \n",
    "    ### Deal with Categorical Data\n",
    "    bins_rad = pd.cut(df['RAD'], bins_rad_list)\n",
    "    bins_tax = pd.cut(df['TAX'], bins_tax_list)\n",
    "    tax_dummy = pd.get_dummies(bins_tax, prefix=\"TAX\")\n",
    "    rad_dummy = pd.get_dummies(bins_rad, prefix=\"RAD\")\n",
    "    df = df.drop([\"RAD\",\"TAX\"], axis=1)\n",
    "    df = pd.concat([df, rad_dummy, tax_dummy], axis=1)\n",
    "        \n",
    "    # minmax scaling\n",
    "    df[\"B\"] = (df[\"B\"]-min_b)/(max_b-min_b)\n",
    "    df[\"CRIM\"] = (np.log(df[\"CRIM\"])-min_crim)/(max_crim-min_crim)\n",
    "    df[\"DIS\"] = (np.log(df[\"DIS\"])-min_dis)/(max_dis-min_dis)\n",
    "\n",
    "    #standardization\n",
    "    df[\"AGE\"] = (df[\"AGE\"]-mean_age)/np.sqrt(var_age)\n",
    "    df[\"INDUS\"] = (np.log(df[\"INDUS\"])-mean_indus)/np.sqrt(var_indus)\n",
    "    df[\"LSTAT\"] = (np.log(df[\"LSTAT\"])-mean_lstat)/np.sqrt(var_lstat)\n",
    "    df[\"PTRATIO\"] = (np.log(df[\"PTRATIO\"])-mean_ptratio)/(np.sqrt(var_ptratio))\n",
    "    \n",
    "    #dropping dummies\n",
    "    df = df.drop(\"RAD_(6, 24]\",axis=1)\n",
    "    df = df.drop(\"TAX_(360, 712]\",axis=1)\n",
    "    \n",
    "    return df"
   ]
  },
  {
   "cell_type": "code",
   "execution_count": 20,
   "metadata": {},
   "outputs": [
    {
     "data": {
      "text/html": [
       "<div>\n",
       "<style scoped>\n",
       "    .dataframe tbody tr th:only-of-type {\n",
       "        vertical-align: middle;\n",
       "    }\n",
       "\n",
       "    .dataframe tbody tr th {\n",
       "        vertical-align: top;\n",
       "    }\n",
       "\n",
       "    .dataframe thead th {\n",
       "        text-align: right;\n",
       "    }\n",
       "</style>\n",
       "<table border=\"1\" class=\"dataframe\">\n",
       "  <thead>\n",
       "    <tr style=\"text-align: right;\">\n",
       "      <th></th>\n",
       "      <th>CRIM</th>\n",
       "      <th>INDUS</th>\n",
       "      <th>CHAS</th>\n",
       "      <th>RM</th>\n",
       "      <th>AGE</th>\n",
       "      <th>DIS</th>\n",
       "      <th>PTRATIO</th>\n",
       "      <th>B</th>\n",
       "      <th>LSTAT</th>\n",
       "      <th>RAD_(0, 6]</th>\n",
       "      <th>TAX_(0, 270]</th>\n",
       "      <th>TAX_(270, 360]</th>\n",
       "    </tr>\n",
       "  </thead>\n",
       "  <tbody>\n",
       "    <tr>\n",
       "      <th>0</th>\n",
       "      <td>0.668469</td>\n",
       "      <td>-0.459707</td>\n",
       "      <td>1.0</td>\n",
       "      <td>6.1</td>\n",
       "      <td>-1.257952</td>\n",
       "      <td>0.803143</td>\n",
       "      <td>-0.59905</td>\n",
       "      <td>0.96495</td>\n",
       "      <td>0.025057</td>\n",
       "      <td>0</td>\n",
       "      <td>0</td>\n",
       "      <td>1</td>\n",
       "    </tr>\n",
       "  </tbody>\n",
       "</table>\n",
       "</div>"
      ],
      "text/plain": [
       "       CRIM     INDUS  CHAS   RM       AGE       DIS  PTRATIO        B  \\\n",
       "0  0.668469 -0.459707   1.0  6.1 -1.257952  0.803143 -0.59905  0.96495   \n",
       "\n",
       "      LSTAT  RAD_(0, 6]  TAX_(0, 270]  TAX_(270, 360]  \n",
       "0  0.025057           0             0               1  "
      ]
     },
     "execution_count": 20,
     "metadata": {},
     "output_type": "execute_result"
    }
   ],
   "source": [
    "sample_df = sample_transformation(sample_df,bins_rad_list,bins_tax_list)\n",
    "sample_df"
   ]
  },
  {
   "cell_type": "markdown",
   "metadata": {},
   "source": [
    "## Summary\n",
    "Congratulations! You've fitted your first multiple linear regression model on the Boston Housing Data."
   ]
  },
  {
   "cell_type": "code",
   "execution_count": 21,
   "metadata": {},
   "outputs": [
    {
     "data": {
      "text/plain": [
       "0    0.144883\n",
       "dtype: float64"
      ]
     },
     "execution_count": 21,
     "metadata": {},
     "output_type": "execute_result"
    }
   ],
   "source": [
    "model_sm.predict(sample_df)"
   ]
  },
  {
   "cell_type": "code",
   "execution_count": 25,
   "metadata": {},
   "outputs": [
    {
     "data": {
      "text/plain": [
       "3.411333333333322"
      ]
     },
     "execution_count": 25,
     "metadata": {},
     "output_type": "execute_result"
    }
   ],
   "source": [
    "(1-0.144883/0.15)*100"
   ]
  },
  {
   "cell_type": "code",
   "execution_count": null,
   "metadata": {},
   "outputs": [],
   "source": []
  }
 ],
 "metadata": {
  "kernelspec": {
   "display_name": "Python 3",
   "language": "python",
   "name": "python3"
  },
  "language_info": {
   "codemirror_mode": {
    "name": "ipython",
    "version": 3
   },
   "file_extension": ".py",
   "mimetype": "text/x-python",
   "name": "python",
   "nbconvert_exporter": "python",
   "pygments_lexer": "ipython3",
<<<<<<< HEAD
   "version": "3.7.3"
=======
   "version": "3.6.6"
>>>>>>> eb7d55692c4320bf1e69d93f242a1d35483c577d
  }
 },
 "nbformat": 4,
 "nbformat_minor": 2
}
